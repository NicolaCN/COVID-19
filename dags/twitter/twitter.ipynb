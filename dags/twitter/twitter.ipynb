{
 "cells": [
  {
   "cell_type": "code",
   "execution_count": 4,
   "metadata": {},
   "outputs": [],
   "source": [
    "import stweet as st\n",
    "import pandas as pd\n",
    "\n",
    "def scrapTweetById(id):\n",
    "    search_tweets_task = st.SearchTweetsTask(all_words='#covid19')\n",
    "    output_jl_tweets = st.JsonLineFileRawOutput('output_raw_search_tweets.jl')\n",
    "    output_jl_users = st.JsonLineFileRawOutput('output_raw_search_users.jl')\n",
    "    output_print = st.PrintRawOutput()\n",
    "    st.TweetSearchRunner(search_tweets_task=search_tweets_task,\n",
    "                         tweet_raw_data_outputs=[output_print, output_jl_tweets],\n",
    "                         user_raw_data_outputs=[output_print, output_jl_users]).run()\n",
    "    print(output_print)"
   ]
  }
 ],
 "metadata": {
  "kernelspec": {
   "display_name": ".venv",
   "language": "python",
   "name": "python3"
  },
  "language_info": {
   "codemirror_mode": {
    "name": "ipython",
    "version": 3
   },
   "file_extension": ".py",
   "mimetype": "text/x-python",
   "name": "python",
   "nbconvert_exporter": "python",
   "pygments_lexer": "ipython3",
   "version": "3.11.6"
  }
 },
 "nbformat": 4,
 "nbformat_minor": 2
}
